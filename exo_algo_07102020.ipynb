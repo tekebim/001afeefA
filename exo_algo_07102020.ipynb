{
  "nbformat": 4,
  "nbformat_minor": 0,
  "metadata": {
    "colab": {
      "name": "exo-algo-07102020.ipynb",
      "provenance": [],
      "collapsed_sections": [],
      "authorship_tag": "ABX9TyMbSiRAT5sAEwUaxcOCooRr"
    },
    "kernelspec": {
      "name": "python3",
      "display_name": "Python 3"
    }
  },
  "cells": [
    {
      "cell_type": "code",
      "metadata": {
        "id": "6vY3YwnQSS0S",
        "outputId": "81515400-af66-477f-925d-e3982fdc90b8",
        "colab": {
          "base_uri": "https://localhost:8080/"
        }
      },
      "source": [
        "# 1.1 Vous avez deux variables, A et B et vous souhaitez inverser le contenu \n",
        "\n",
        "# init variables\n",
        "a = 1\n",
        "b = 2\n",
        "# using variable c\n",
        "c = a;\n",
        "# make the switch\n",
        "a = b;\n",
        "b = c;\n",
        "# display values\n",
        "print (a,b)"
      ],
      "execution_count": null,
      "outputs": [
        {
          "output_type": "stream",
          "text": [
            "1 2\n",
            "2 1\n"
          ],
          "name": "stdout"
        }
      ]
    },
    {
      "cell_type": "code",
      "metadata": {
        "id": "TZWzGGQ_Wc35",
        "outputId": "1b9a6417-2c55-48a3-ea8e-8545dbc581c5",
        "colab": {
          "base_uri": "https://localhost:8080/",
          "height": 51
        }
      },
      "source": [
        "# 1.2 Demandez un nombre à un utilisateur et afficher le carré\n",
        "\n",
        "userVal = input('Veuillez saisir un nombre : ')\n",
        "\n",
        "# method to test if is a number like integer or float \n",
        "def isNumber(item):\n",
        "  try:\n",
        "    float(item)\n",
        "    valid = True\n",
        "  except ValueError:\n",
        "    valid = False\n",
        "  return valid\n",
        "\n",
        "if(isNumber(userVal)):\n",
        "  # test if input is an integer\n",
        "  try:         \n",
        "    userVal = int(userVal)\n",
        "  # if not convert to float\n",
        "  except ValueError:\n",
        "    userVal = float(userVal)  \n",
        "  userVal = userVal * userVal\n",
        "  print(userVal)\n",
        "else:\n",
        "  print('Veuillez saisir un nombre valide')"
      ],
      "execution_count": null,
      "outputs": [
        {
          "output_type": "stream",
          "text": [
            "Veuillez saisir un nombre : -10\n",
            "100\n"
          ],
          "name": "stdout"
        }
      ]
    },
    {
      "cell_type": "code",
      "metadata": {
        "id": "0UeOCZYYhmaW",
        "outputId": "4ca5a403-d75f-4cf3-ad96-3cf50e525882",
        "colab": {
          "base_uri": "https://localhost:8080/",
          "height": 51
        }
      },
      "source": [
        "# 1.3 Conditions : Ecrire un algorithme qui demande un nombre a l’utilisateur, et l’informe ensuite si ce nombre est positif ou negatif (on laisse de cote le cas ou le nombre vaut zero).\n",
        "\n",
        "userVal = input('Veuillez saisir un nombre : ')\n",
        "\n",
        "# method to test if is a number like integer or float \n",
        "def isNumber(item):\n",
        "  try:\n",
        "    float(item)\n",
        "    valid = True\n",
        "  except ValueError:\n",
        "    valid = False\n",
        "  return valid\n",
        "\n",
        "\n",
        "if(isNumber(userVal)):\n",
        "  # test if input is an integer\n",
        "  try:         \n",
        "    userVal = int(userVal)\n",
        "  # if not convert to float\n",
        "  except ValueError:\n",
        "    userVal = float(userVal)  \n",
        "  if(userVal >= 0):\n",
        "    print('Le nombre que vous avez saisi est positif')\n",
        "  else :\n",
        "    print('Le nombre que vous avez saisi est négatif')\n",
        "else:\n",
        "  print('Veuillez saisir un nombre valide')"
      ],
      "execution_count": null,
      "outputs": [
        {
          "output_type": "stream",
          "text": [
            "Veuillez saisir un nombre : dm\n",
            "Veuillez saisir un nombre valide\n"
          ],
          "name": "stdout"
        }
      ]
    },
    {
      "cell_type": "code",
      "metadata": {
        "id": "44ua3xVui75E",
        "outputId": "52d8c07c-0af9-4b4a-c876-a2ae98d2547e",
        "colab": {
          "base_uri": "https://localhost:8080/",
          "height": 68
        }
      },
      "source": [
        "# 1.4 Le produit : Ecrire un algorithme qui demande deux nombres a l’utilisateur et l’informe en suite si leur produit est negatif ou positif (on laisse de cot e le cas ou le produit est nul)\n",
        "\n",
        "userValFirst = input('Veuillez saisir un premier nombre : ')\n",
        "userValSecond = input('Veuillez saisir un second nombre : ')\n",
        "msg = 'Le produit des deux nombres est : '\n",
        "msgPositive = msg + 'positif'\n",
        "msgNegative = msg + 'négatif'\n",
        "\n",
        "# method to test if is a number like integer or float \n",
        "def isNumber(item):\n",
        "  try:\n",
        "    float(item)\n",
        "    valid = True\n",
        "  except ValueError:\n",
        "    valid = False\n",
        "  return valid\n",
        "\n",
        "if(isNumber(userValFirst) and isNumber(userValSecond)):\n",
        "  # test if input is an integer\n",
        "  try:         \n",
        "    userValFirst = int(userValFirst)\n",
        "    userValSecond = int(userValSecond)\n",
        "  # if not convert to float\n",
        "  except ValueError:\n",
        "    userValFirst = float(userValFirst)\n",
        "    userValSecond = float(userValSecond)  \n",
        "  # if first value is positive\n",
        "  if int(userValFirst) >= 0:\n",
        "    # if second value is positive too\n",
        "    if int(userValSecond) >= 0:\n",
        "      print(msgPositive)\n",
        "    else :\n",
        "      print(msgNegative)\n",
        "  else:\n",
        "    # if second element is negative too\n",
        "    if int(userValSecond) >= 0:\n",
        "      print(msgNegative)\n",
        "    else :\n",
        "      print(msgPositive)\n",
        "else:\n",
        "  print('Veuillez saisir un nombre valide')\n"
      ],
      "execution_count": null,
      "outputs": [
        {
          "output_type": "stream",
          "text": [
            "Veuillez saisir un premier nombre : 3\n",
            "Veuillez saisir un second nombre : 3.0\n",
            "Le produit des deux nombres est : positif\n"
          ],
          "name": "stdout"
        }
      ]
    },
    {
      "cell_type": "code",
      "metadata": {
        "id": "IyVAubTysMC8",
        "outputId": "919dab5c-fda8-4503-f01a-88899f97d3b3",
        "colab": {
          "base_uri": "https://localhost:8080/",
          "height": 51
        }
      },
      "source": [
        "# 1.5 Calcul : Ecrire un algorithme qui demande un nombre de depart, et qui ensuite affiche les dix nombres suivants.\n",
        "\n",
        "userVal = input('Veuillez saisir un nombre de départ : ')\n",
        "arrayValues = []\n",
        "i=0\n",
        "\n",
        "# method to test if is a number like integer or float \n",
        "def isNumber(item):\n",
        "  try:\n",
        "    float(item)\n",
        "    valid = True\n",
        "  except ValueError:\n",
        "    valid = False\n",
        "  return valid\n",
        "\n",
        "if(isNumber(userVal)):\n",
        "  # test if input is an integer\n",
        "  try:         \n",
        "    userVal = int(userVal)\n",
        "  # if not convert to float\n",
        "  except ValueError:\n",
        "    userVal = float(userVal)  \n",
        "  # loop from 0 to < 11\n",
        "  while(i<11):\n",
        "    # add to array\n",
        "    arrayValues.append(userVal + i)\n",
        "    i +=1\n",
        "\n",
        "  # display the result\n",
        "  print(arrayValues)\n",
        "else:\n",
        "  print('Veuillez saisir un nombre valide')"
      ],
      "execution_count": null,
      "outputs": [
        {
          "output_type": "stream",
          "text": [
            "Veuillez saisir un nombre de départ : 12.1\n",
            "[12.1, 13.1, 14.1, 15.1, 16.1, 17.1, 18.1, 19.1, 20.1, 21.1, 22.1]\n"
          ],
          "name": "stdout"
        }
      ]
    },
    {
      "cell_type": "code",
      "metadata": {
        "id": "KOhdKAemt-51",
        "outputId": "560b1797-bfea-49fb-a997-0581f82be52a",
        "colab": {
          "base_uri": "https://localhost:8080/",
          "height": 51
        }
      },
      "source": [
        "# 1.6 Additivite : Ecrire un algorithme qui demande un nombre de depart, et qui calcule la somme des entiers jusqu’a ce nombre\n",
        "\n",
        "userVal = input('Veuillez saisir un nombre : ')\n",
        "# default value for somme to 0\n",
        "sumVal = 0\n",
        "\n",
        "# method to test if is a number like integer or float \n",
        "def isInteger(item):\n",
        "  try:\n",
        "    int(item)\n",
        "    valid = True\n",
        "  except ValueError:\n",
        "    valid = False\n",
        "  return valid\n",
        "\n",
        "if(isInteger(userVal)):\n",
        "  userVal = int(userVal)\n",
        "  # foreach integer until user value\n",
        "  for eachInteger in range(userVal):\n",
        "    sumVal = sumVal + eachInteger\n",
        "  # display the sum value of all integer until user value\n",
        "  print('Somme de tous les entiers jusqu\\'à', userVal,':', sumVal)\n",
        "else:\n",
        "  print('Veuillez saisir un nombre valide')"
      ],
      "execution_count": null,
      "outputs": [
        {
          "output_type": "stream",
          "text": [
            "Veuillez saisir un nombre : 9\n",
            "Somme de tous les entiers jusqu'à 9 : 36\n"
          ],
          "name": "stdout"
        }
      ]
    },
    {
      "cell_type": "code",
      "metadata": {
        "id": "z20dQZoXE2LX",
        "outputId": "f9dd6157-6d02-4f74-896e-afc12e726c3a",
        "colab": {
          "base_uri": "https://localhost:8080/",
          "height": 51
        }
      },
      "source": [
        "# 2.1 La somme : Ecrire un algorithme calculant la somme des valeurs d’un tableau\n",
        "\n",
        "from random import randint\n",
        "# define the min / max for values + lenght of arrays\n",
        "min, max = -10, 10\n",
        "myArrayLenght = 10\n",
        "myArray = [randint(min,max) for _ in range(myArrayLenght)]\n",
        "sumValue = 0\n",
        "\n",
        "# loop for each value in array\n",
        "for eachVal in myArray:\n",
        "  # test if value is an integer or float\n",
        "  if(isinstance(eachVal, (int,float))):\n",
        "    # sum the value to the global sum\n",
        "    sumValue = sumValue + eachVal\n",
        "  else:\n",
        "    # display an error message for current value    \n",
        "    print('La valeur :',eachVal, ' n\\'étant pas un nombre, elle ne peut pas être additionnée aux autres éléments de la liste')\n",
        "# display the result\n",
        "print('Somme des valeurs des éléménts du tableau :', sumValue)\n",
        "print(myArray)"
      ],
      "execution_count": null,
      "outputs": [
        {
          "output_type": "stream",
          "text": [
            "Somme des valeurs des éléménts du tableau : 5\n",
            "[0, 1, -2, -8, -8, 8, -8, 7, 6, 9]\n"
          ],
          "name": "stdout"
        }
      ]
    },
    {
      "cell_type": "code",
      "metadata": {
        "id": "ixRkEq7hIhOI",
        "outputId": "b2bae615-1f03-44d1-b69f-0dba049f6b75",
        "colab": {
          "base_uri": "https://localhost:8080/",
          "height": 68
        }
      },
      "source": [
        "# 2.2 La somme - retour : Ecrire un algorithme constituant un tableau, a partir de deux tableaux de meme longueur prealablement saisis. Le nouveau tableau sera la somme des  elements des deux tableaux de depart.\n",
        "\n",
        "from random import randint\n",
        "\n",
        "# define the min / max for values + lenght of arrays\n",
        "min, max = -100, 100\n",
        "myArrayLenght = 10\n",
        "\n",
        "# build arrays with random values\n",
        "myFirstArray = [randint(min,max) for _ in range(myArrayLenght)]\n",
        "mySecondArray = [randint(min,max) for _ in range(myArrayLenght)]\n",
        "\n",
        "# create custom function to calculate the sum of each array's entries\n",
        "def entriesSum(dataArray):\n",
        "  sumValue = 0\n",
        "  for element in dataArray:\n",
        "    sumValue = sumValue + element\n",
        "  return sumValue\n",
        "\n",
        "\n",
        "# calculate the sum of first and second arrays, and place it on a third array \n",
        "myThirdArray = [entriesSum(myFirstArray) + entriesSum(mySecondArray)]\n",
        "print('Tableau 1 :', myFirstArray)\n",
        "print('Tableau 2 :', mySecondArray)\n",
        "print('Tableau 3 :',myThirdArray, '(Somme tableaux 1 et 2)')\n"
      ],
      "execution_count": null,
      "outputs": [
        {
          "output_type": "stream",
          "text": [
            "Tableau 1 : [-20, 76, -85, 43, -92, 93, 58, -34, 4, -72]\n",
            "Tableau 2 : [14, -44, -96, -27, -98, 96, -57, -38, -69, -41]\n",
            "Tableau 3 : [-389] (Somme tableaux 1 et 2)\n"
          ],
          "name": "stdout"
        }
      ]
    },
    {
      "cell_type": "code",
      "metadata": {
        "id": "li8snyHQNspi",
        "outputId": "360d2c5c-39e3-4138-c9f5-d84a05df8e5a",
        "colab": {
          "base_uri": "https://localhost:8080/",
          "height": 34
        }
      },
      "source": [
        "# 2.3 FacProduct : Toujours a partir de deux tableaux precedemment saisis, ecrire un algorithme qui calcule le ’FacProduct’ des deux tableaux. Pour calculer le ’FacProduct’, il faut multiplier chaque element du tableau1 par chaque element du tableau2, et additionner le tout.\n",
        "\n",
        "from random import randint\n",
        "\n",
        "min, max = -100, 100\n",
        "myArrayLenght = 10\n",
        "\n",
        "# build arrays with random values\n",
        "myFirstArray = [randint(min,max) for _ in range(myArrayLenght)]\n",
        "mySecondArray = [randint(min,max) for _ in range(myArrayLenght)]\n",
        "# define start value\n",
        "sumValue = 0\n",
        "\n",
        "# loop on primary array\n",
        "for _, primaryElement in enumerate(myFirstArray):\n",
        "  # loop on secondary array\n",
        "  for _, secondaryElement in enumerate(mySecondArray):\n",
        "    # sum the product of (primaryElement * secondaryElement)    \n",
        "    sumValue += primaryElement * secondaryElement\n",
        "\n",
        "print('Résultat du FacProduct entre le tableau 1 et 2 :', sumValue)"
      ],
      "execution_count": null,
      "outputs": [
        {
          "output_type": "stream",
          "text": [
            "Résultat du FacProduct entre le tableau 1 et 2 : 81326\n"
          ],
          "name": "stdout"
        }
      ]
    },
    {
      "cell_type": "code",
      "metadata": {
        "id": "7QX2A6dWVg79",
        "outputId": "68bd1f98-6c34-433c-d452-02a62d951115",
        "colab": {
          "base_uri": "https://localhost:8080/",
          "height": 68
        }
      },
      "source": [
        "# 2.4 Le plus grand : Ecrire un algorithme permettant a l’utilisateur de saisir un nombre determine de valeurs. Le programme, une fois la saisie terminee, renvoie la plus grande valeur en precisant quelle position elle occupe dans le tableau.\n",
        "\n",
        "from random import randint\n",
        "min, max = -10, 10\n",
        "nbEntries = input('Saisissez le nombre d\\'entrées constituant le tableau')\n",
        "\n",
        "# test if nbEntries is a correct number (as integer or float)\n",
        "if int(nbEntries):\n",
        "  # add random value\n",
        "  for index in nbEntries:    \n",
        "    myArray = [randint(min,max) for _ in range(int(nbEntries))]\n",
        "\n",
        "  # create temporary variable\n",
        "  tmpMax = myArray[0]\n",
        "\n",
        "  # loop on each index of array  \n",
        "  for index, element in enumerate(myArray):\n",
        "    if element > tmpMax:\n",
        "      tmpMax = element\n",
        "      tmpIndex = index + 1\n",
        "  print('La valeur maximale dans le tableau est :',tmpMax, 'et se situe à la position :', tmpIndex, 'dans le tableau')  \n",
        "  print(myArray)\n",
        "else:\n",
        "  print('Veuillez saisir un nombre entier pour constituer le tableau')"
      ],
      "execution_count": 90,
      "outputs": [
        {
          "output_type": "stream",
          "text": [
            "Saisissez le nombre d'entrées constituant le tableau5\n",
            "La valeur maximale dans le tableau est : 10 et se situe à la position : 3 dans le tableau\n",
            "[-6, 2, 10, 6, 10]\n"
          ],
          "name": "stdout"
        }
      ]
    },
    {
      "cell_type": "code",
      "metadata": {
        "id": "yHUEas-gfvLY",
        "outputId": "fab2e79e-c01f-446e-86f5-0e50bcaf0570",
        "colab": {
          "base_uri": "https://localhost:8080/",
          "height": 51
        }
      },
      "source": [
        "#x, y = input(\"Enter a two value: \").split(',')\n",
        "#print(\"Number of boys: \", x)\n",
        "#print(\"Number of girls: \", y)\n",
        "\n",
        "z = [int(z) for z in input(\"Enter multiple value: \").split(\",\")]\n",
        "print(\"Number of list is: \", z) "
      ],
      "execution_count": 82,
      "outputs": [
        {
          "output_type": "stream",
          "text": [
            "Enter multiple value: 10,2,2\n",
            "Number of list is:  [10, 2, 2]\n"
          ],
          "name": "stdout"
        }
      ]
    }
  ]
}